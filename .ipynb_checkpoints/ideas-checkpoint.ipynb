{
 "cells": [
  {
   "cell_type": "markdown",
   "metadata": {},
   "source": [
    "### ideas"
   ]
  },
  {
   "cell_type": "markdown",
   "metadata": {},
   "source": [
    "1) Deeper-Bigger models\n",
    "\n",
    "1) Higher resolution training\n",
    "\n",
    "2) Object Detection (**in progress**)\n",
    "    \n",
    "    2a) Rotation Invariant Object Detection\n",
    "\n",
    "3) Multi resolution ensembeling \n",
    "\n",
    "4) Data augmentation for segmentation + object detection\n",
    "\n",
    "5) Sliding window training for segmentation with full size 768- UNET\n",
    "\n",
    "6) Sliding window training for segmentation with full size 768- UNET"
   ]
  },
  {
   "cell_type": "code",
   "execution_count": null,
   "metadata": {},
   "outputs": [],
   "source": []
  }
 ],
 "metadata": {
  "kernelspec": {
   "display_name": "Python 3",
   "language": "python",
   "name": "python3"
  },
  "language_info": {
   "codemirror_mode": {
    "name": "ipython",
    "version": 3
   },
   "file_extension": ".py",
   "mimetype": "text/x-python",
   "name": "python",
   "nbconvert_exporter": "python",
   "pygments_lexer": "ipython3",
   "version": "3.6.5"
  }
 },
 "nbformat": 4,
 "nbformat_minor": 2
}
